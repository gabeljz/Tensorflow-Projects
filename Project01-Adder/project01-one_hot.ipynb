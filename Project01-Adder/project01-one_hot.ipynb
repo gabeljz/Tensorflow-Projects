{
 "cells": [
  {
   "cell_type": "code",
   "execution_count": 1,
   "metadata": {},
   "outputs": [
    {
     "name": "stderr",
     "output_type": "stream",
     "text": [
      "Using TensorFlow backend.\n"
     ]
    }
   ],
   "source": [
    "%matplotlib inline\n",
    "import matplotlib.pyplot as plt\n",
    "\n",
    "import keras\n",
    "from keras.models import Model, Sequential\n",
    "from keras.layers import *\n",
    "from keras.optimizers import Adam\n",
    "\n",
    "import tensorflow as tf\n",
    "import numpy as np\n",
    "\n",
    "import pandas as pd\n",
    "from collections import Counter\n",
    "from sklearn.model_selection import train_test_split"
   ]
  },
  {
   "cell_type": "code",
   "execution_count": 2,
   "metadata": {},
   "outputs": [
    {
     "name": "stdout",
     "output_type": "stream",
     "text": [
      "2.0.8\n",
      "1.3.0\n"
     ]
    }
   ],
   "source": [
    "print(keras.__version__)\n",
    "print(tf.__version__)"
   ]
  },
  {
   "cell_type": "code",
   "execution_count": 3,
   "metadata": {
    "collapsed": true
   },
   "outputs": [],
   "source": [
    "def plot_train(hist):\n",
    "    h = hist.history\n",
    "    if 'acc' in h:\n",
    "        meas='acc'\n",
    "        loc='lower right'\n",
    "    else:\n",
    "        meas='loss'\n",
    "        loc='upper right'\n",
    "    plt.plot(hist.history[meas])\n",
    "    plt.plot(hist.history['val_'+meas])\n",
    "    plt.title('model '+meas)\n",
    "    plt.ylabel(meas)\n",
    "    plt.xlabel('epoch')\n",
    "    plt.legend(['train', 'validation'], loc=loc)"
   ]
  },
  {
   "cell_type": "code",
   "execution_count": 4,
   "metadata": {
    "collapsed": true
   },
   "outputs": [],
   "source": [
    "def number_to_vector(number):\n",
    "    # print(number)\n",
    "    number_vector = np.zeros(101, dtype=np.int_)\n",
    "    # print(number_vector)\n",
    "    number_vector[number] = 1\n",
    "    # print(number_vector)\n",
    "    return np.array(number_vector)"
   ]
  },
  {
   "cell_type": "code",
   "execution_count": 5,
   "metadata": {},
   "outputs": [
    {
     "name": "stdout",
     "output_type": "stream",
     "text": [
      "[0 0 0 0 0 0 0 0 0 0 0 0 0 0 0 0 0 0 0 0 0 0 0 0 0 0 0 0 0 0 0 0 0 0 0 0 0\n",
      " 0 0 0 0 0 0 0 0 0 0 0 0 0 0 0 0 0 0 0 0 0 0 0 0 0 0 0 0 0 0 0 0 0 0 0 0 0\n",
      " 0 0 0 0 0 0 0 0 0 0 0 0 0 0 0 0 0 0 0 0 0 0 0 0 0 0 1 0 0 0 0 0 0 0 0 0 0\n",
      " 0 0 0 0 0 0 0 0 0 0 0 0 0 0 0 0 0 0 0 0 0 0 0 0 0 0 0 0 0 0 0 0 0 0 0 0 0\n",
      " 0 0 0 0 0 0 0 0 0 0 0 0 0 0 0 0 0 0 0 0 0 0 0 0 0 0 0 0 0 0 0 0 0 0 0 0 0\n",
      " 0 0 0 0 0 0 0 0 0 0 0 0 0 0 0 0 1]\n",
      "200\n",
      "10201\n",
      "10201\n"
     ]
    }
   ],
   "source": [
    "operand = np.arange(0, 101);\n",
    "sums = []\n",
    "for operand1 in operand:\n",
    "    for operand2 in operand:\n",
    "        sums.append(operand1 + operand2)\n",
    "\n",
    "# print(operand[0])\n",
    "# operand = keras.utils.to_categorical(operand, 101);\n",
    "# print(operand[0])\n",
    "# print(operand[1])\n",
    "# print(operand[100])\n",
    "\n",
    "operands = []\n",
    "for operand1 in operand:\n",
    "    for operand2 in operand:\n",
    "        operands.append(np.concatenate((number_to_vector(operand1), number_to_vector(operand2)), axis=0))\n",
    "\n",
    "print(operands[10200])\n",
    "print(sums[10200])\n",
    "print(len(operands))\n",
    "print(len(sums))"
   ]
  },
  {
   "cell_type": "code",
   "execution_count": 6,
   "metadata": {},
   "outputs": [
    {
     "name": "stdout",
     "output_type": "stream",
     "text": [
      "0\n",
      "[ 1.  0.  0.  0.  0.  0.  0.  0.  0.  0.  0.  0.  0.  0.  0.  0.  0.  0.\n",
      "  0.  0.  0.  0.  0.  0.  0.  0.  0.  0.  0.  0.  0.  0.  0.  0.  0.  0.\n",
      "  0.  0.  0.  0.  0.  0.  0.  0.  0.  0.  0.  0.  0.  0.  0.  0.  0.  0.\n",
      "  0.  0.  0.  0.  0.  0.  0.  0.  0.  0.  0.  0.  0.  0.  0.  0.  0.  0.\n",
      "  0.  0.  0.  0.  0.  0.  0.  0.  0.  0.  0.  0.  0.  0.  0.  0.  0.  0.\n",
      "  0.  0.  0.  0.  0.  0.  0.  0.  0.  0.  0.  0.  0.  0.  0.  0.  0.  0.\n",
      "  0.  0.  0.  0.  0.  0.  0.  0.  0.  0.  0.  0.  0.  0.  0.  0.  0.  0.\n",
      "  0.  0.  0.  0.  0.  0.  0.  0.  0.  0.  0.  0.  0.  0.  0.  0.  0.  0.\n",
      "  0.  0.  0.  0.  0.  0.  0.  0.  0.  0.  0.  0.  0.  0.  0.  0.  0.  0.\n",
      "  0.  0.  0.  0.  0.  0.  0.  0.  0.  0.  0.  0.  0.  0.  0.  0.  0.  0.\n",
      "  0.  0.  0.  0.  0.  0.  0.  0.  0.  0.  0.  0.  0.  0.  0.  0.  0.  0.\n",
      "  0.  0.  0.]\n"
     ]
    }
   ],
   "source": [
    "print(sums[0])\n",
    "n_classes = 201;\n",
    "sums = keras.utils.to_categorical(sums, n_classes)\n",
    "print(sums[0])"
   ]
  },
  {
   "cell_type": "code",
   "execution_count": 7,
   "metadata": {},
   "outputs": [
    {
     "name": "stdout",
     "output_type": "stream",
     "text": [
      "[8209 9011  873 ..., 2043 4529 1553]\n",
      "[8209 9011  873 ..., 1346  548 1712]\n",
      "[8018 7782 1835 ..., 2043 4529 1553]\n",
      "(8160, 202)\n",
      "(8160, 201)\n",
      "(2041, 202)\n",
      "(2041, 201)\n",
      "[0 0 0 0 0 0 0 0 0 0 0 0 0 0 0 0 0 0 0 0 0 0 0 0 0 0 0 0 0 0 0 0 0 0 0 0 0\n",
      " 0 0 0 0 0 0 0 0 0 0 0 0 0 0 0 0 0 0 0 0 0 0 0 0 0 0 0 0 0 0 0 0 0 0 0 0 0\n",
      " 0 0 0 0 0 0 0 1 0 0 0 0 0 0 0 0 0 0 0 0 0 0 0 0 0 0 0 0 0 0 0 0 0 0 0 0 0\n",
      " 0 0 0 0 0 0 0 0 0 0 0 0 0 0 0 0 0 0 1 0 0 0 0 0 0 0 0 0 0 0 0 0 0 0 0 0 0\n",
      " 0 0 0 0 0 0 0 0 0 0 0 0 0 0 0 0 0 0 0 0 0 0 0 0 0 0 0 0 0 0 0 0 0 0 0 0 0\n",
      " 0 0 0 0 0 0 0 0 0 0 0 0 0 0 0 0 0]\n",
      "[ 0.  0.  0.  0.  0.  0.  0.  0.  0.  0.  0.  0.  0.  0.  0.  0.  0.  0.\n",
      "  0.  0.  0.  0.  0.  0.  0.  0.  0.  0.  0.  0.  0.  0.  0.  0.  0.  0.\n",
      "  0.  0.  0.  0.  0.  0.  0.  0.  0.  0.  0.  0.  0.  0.  0.  0.  0.  0.\n",
      "  0.  0.  0.  0.  0.  0.  0.  0.  0.  0.  0.  0.  0.  0.  0.  0.  0.  0.\n",
      "  0.  0.  0.  0.  0.  0.  0.  0.  0.  0.  0.  0.  0.  0.  0.  0.  0.  0.\n",
      "  0.  0.  0.  0.  0.  0.  0.  0.  0.  0.  0.  0.  0.  0.  0.  0.  0.  0.\n",
      "  0.  1.  0.  0.  0.  0.  0.  0.  0.  0.  0.  0.  0.  0.  0.  0.  0.  0.\n",
      "  0.  0.  0.  0.  0.  0.  0.  0.  0.  0.  0.  0.  0.  0.  0.  0.  0.  0.\n",
      "  0.  0.  0.  0.  0.  0.  0.  0.  0.  0.  0.  0.  0.  0.  0.  0.  0.  0.\n",
      "  0.  0.  0.  0.  0.  0.  0.  0.  0.  0.  0.  0.  0.  0.  0.  0.  0.  0.\n",
      "  0.  0.  0.  0.  0.  0.  0.  0.  0.  0.  0.  0.  0.  0.  0.  0.  0.  0.\n",
      "  0.  0.  0.]\n"
     ]
    }
   ],
   "source": [
    "operands = np.array(operands)\n",
    "sums = np.array(sums)\n",
    "\n",
    "number_of_records = len(operands)\n",
    "shuffle = np.arange(number_of_records)\n",
    "np.random.shuffle(shuffle)\n",
    "test_fraction = 0.8\n",
    "\n",
    "print(shuffle)\n",
    "#print(int(number_of_records*test_fraction))\n",
    "\n",
    "#making a train / test split\n",
    "train_split, test_split = shuffle[:int(number_of_records*test_fraction)], shuffle[int(number_of_records*test_fraction):]\n",
    "print(train_split)\n",
    "print(test_split)\n",
    "x_train , y_train = operands[train_split,:] , sums[train_split]\n",
    "x_test , y_test = operands[test_split,:] , sums[test_split]\n",
    "\n",
    "# x_train, y_train = word_vectors[train_split,:], labels.values[train_split,:]\n",
    "# x_test, y_test = word_vectors[test_split,:], labels.values[test_split]\n",
    "\n",
    "print(x_train.shape)\n",
    "print(y_train.shape)\n",
    "print(x_test.shape)\n",
    "print(y_test.shape)\n",
    "print(x_train[0])\n",
    "print(y_train[0])\n",
    "# type(x_test[0][0])"
   ]
  },
  {
   "cell_type": "code",
   "execution_count": 8,
   "metadata": {
    "collapsed": true
   },
   "outputs": [],
   "source": [
    "# Training Parameters for basic MNIST \n",
    "learning_rate = 0.1\n",
    "\n",
    "# Network Parameters\n",
    "n_input = 202 # MNIST data input (img shape: 28*28 flattened to be 784)\n",
    "n_hidden_1 = 202 # 1st layer number of neurons\n",
    "n_hidden_2 = 202 # 2nd layer number of neurons\n",
    "n_hidden_3 = 202 # 2nd layer number of neurons\n",
    "n_classes = 201 # MNIST classes for prediction(digits 0-9 )"
   ]
  },
  {
   "cell_type": "code",
   "execution_count": 9,
   "metadata": {
    "collapsed": true
   },
   "outputs": [],
   "source": [
    "Inp = Input(shape=(n_input,))\n",
    "x = Dense(n_hidden_1, activation='relu', name = \"Dense_1\")(Inp)\n",
    "# x = Dropout(0.8)(x)\n",
    "# x = Dense(n_hidden_2, activation='relu', name = \"Dense_2\")(x)\n",
    "# x = Dropout(0.8)(x)\n",
    "# x = Dense(n_hidden_3, activation='relu', name = \"Dense_3\")(x)\n",
    "# x = Dropout(0.5)(x)\n",
    "output = Dense(n_classes, activation='softmax', name = \"Outputlayer\")(x)"
   ]
  },
  {
   "cell_type": "code",
   "execution_count": 10,
   "metadata": {},
   "outputs": [
    {
     "name": "stdout",
     "output_type": "stream",
     "text": [
      "_________________________________________________________________\n",
      "Layer (type)                 Output Shape              Param #   \n",
      "=================================================================\n",
      "input_1 (InputLayer)         (None, 202)               0         \n",
      "_________________________________________________________________\n",
      "Dense_1 (Dense)              (None, 202)               41006     \n",
      "_________________________________________________________________\n",
      "Outputlayer (Dense)          (None, 201)               40803     \n",
      "=================================================================\n",
      "Total params: 81,809\n",
      "Trainable params: 81,809\n",
      "Non-trainable params: 0\n",
      "_________________________________________________________________\n"
     ]
    }
   ],
   "source": [
    "model = Model(Inp, output)\n",
    "model.summary()\n",
    "model.compile(loss='categorical_crossentropy',\n",
    "              optimizer='adam',\n",
    "              metrics=['acc'])"
   ]
  },
  {
   "cell_type": "code",
   "execution_count": 11,
   "metadata": {
    "collapsed": true
   },
   "outputs": [],
   "source": [
    "# Training Parameters for basic MNIST \n",
    "training_epochs = 100\n",
    "batch_size = 100"
   ]
  },
  {
   "cell_type": "code",
   "execution_count": 12,
   "metadata": {},
   "outputs": [
    {
     "name": "stdout",
     "output_type": "stream",
     "text": [
      "Train on 8160 samples, validate on 2041 samples\n",
      "Epoch 1/100\n",
      "8160/8160 [==============================] - 0s - loss: 5.2481 - acc: 0.0075 - val_loss: 5.2011 - val_acc: 0.0054\n",
      "Epoch 2/100\n",
      "8160/8160 [==============================] - 0s - loss: 5.1089 - acc: 0.0096 - val_loss: 5.1592 - val_acc: 0.0054\n",
      "Epoch 3/100\n",
      "8160/8160 [==============================] - 0s - loss: 5.0328 - acc: 0.0125 - val_loss: 5.1333 - val_acc: 0.0024\n",
      "Epoch 4/100\n",
      "8160/8160 [==============================] - 0s - loss: 4.9510 - acc: 0.0130 - val_loss: 5.0725 - val_acc: 0.0024\n",
      "Epoch 5/100\n",
      "8160/8160 [==============================] - 0s - loss: 4.8271 - acc: 0.0163 - val_loss: 4.9570 - val_acc: 9.7991e-04\n",
      "Epoch 6/100\n",
      "8160/8160 [==============================] - 0s - loss: 4.6573 - acc: 0.0238 - val_loss: 4.8087 - val_acc: 0.0000e+00\n",
      "Epoch 7/100\n",
      "8160/8160 [==============================] - 0s - loss: 4.4825 - acc: 0.0342 - val_loss: 4.6839 - val_acc: 0.0000e+00\n",
      "Epoch 8/100\n",
      "8160/8160 [==============================] - 0s - loss: 4.3287 - acc: 0.0403 - val_loss: 4.5728 - val_acc: 0.0000e+00\n",
      "Epoch 9/100\n",
      "8160/8160 [==============================] - 0s - loss: 4.1944 - acc: 0.0478 - val_loss: 4.4858 - val_acc: 0.0000e+00\n",
      "Epoch 10/100\n",
      "8160/8160 [==============================] - 0s - loss: 4.0784 - acc: 0.0623 - val_loss: 4.4309 - val_acc: 0.0000e+00\n",
      "Epoch 11/100\n",
      "8160/8160 [==============================] - 0s - loss: 3.9776 - acc: 0.0645 - val_loss: 4.3746 - val_acc: 4.8996e-04\n",
      "Epoch 12/100\n",
      "8160/8160 [==============================] - 0s - loss: 3.8860 - acc: 0.0732 - val_loss: 4.3465 - val_acc: 0.0000e+00\n",
      "Epoch 13/100\n",
      "8160/8160 [==============================] - 0s - loss: 3.8058 - acc: 0.0786 - val_loss: 4.3193 - val_acc: 0.0000e+00\n",
      "Epoch 14/100\n",
      "8160/8160 [==============================] - 0s - loss: 3.7328 - acc: 0.0873 - val_loss: 4.3064 - val_acc: 4.8996e-04\n",
      "Epoch 15/100\n",
      "8160/8160 [==============================] - 0s - loss: 3.6647 - acc: 0.1034 - val_loss: 4.2968 - val_acc: 0.0000e+00\n",
      "Epoch 16/100\n",
      "8160/8160 [==============================] - 0s - loss: 3.6025 - acc: 0.0998 - val_loss: 4.2840 - val_acc: 4.8996e-04\n",
      "Epoch 17/100\n",
      "8160/8160 [==============================] - 0s - loss: 3.5409 - acc: 0.1142 - val_loss: 4.2882 - val_acc: 0.0000e+00\n",
      "Epoch 18/100\n",
      "8160/8160 [==============================] - 0s - loss: 3.4843 - acc: 0.1248 - val_loss: 4.2863 - val_acc: 0.0000e+00\n",
      "Epoch 19/100\n",
      "8160/8160 [==============================] - 0s - loss: 3.4277 - acc: 0.1306 - val_loss: 4.2937 - val_acc: 0.0000e+00\n",
      "Epoch 20/100\n",
      "8160/8160 [==============================] - 0s - loss: 3.3766 - acc: 0.1488 - val_loss: 4.3152 - val_acc: 0.0000e+00\n",
      "Epoch 21/100\n",
      "8160/8160 [==============================] - 0s - loss: 3.3245 - acc: 0.1537 - val_loss: 4.3314 - val_acc: 0.0000e+00\n",
      "Epoch 22/100\n",
      "8160/8160 [==============================] - 0s - loss: 3.2762 - acc: 0.1692 - val_loss: 4.3292 - val_acc: 0.0000e+00\n",
      "Epoch 23/100\n",
      "8160/8160 [==============================] - 0s - loss: 3.2261 - acc: 0.1828 - val_loss: 4.3552 - val_acc: 0.0000e+00\n",
      "Epoch 24/100\n",
      "8160/8160 [==============================] - 0s - loss: 3.1779 - acc: 0.1895 - val_loss: 4.3886 - val_acc: 0.0000e+00\n",
      "Epoch 25/100\n",
      "8160/8160 [==============================] - 0s - loss: 3.1354 - acc: 0.2036 - val_loss: 4.3893 - val_acc: 0.0000e+00\n",
      "Epoch 26/100\n",
      "8160/8160 [==============================] - 0s - loss: 3.0875 - acc: 0.2178 - val_loss: 4.4181 - val_acc: 0.0000e+00\n",
      "Epoch 27/100\n",
      "8160/8160 [==============================] - 0s - loss: 3.0413 - acc: 0.2295 - val_loss: 4.4429 - val_acc: 0.0000e+00\n",
      "Epoch 28/100\n",
      "8160/8160 [==============================] - 0s - loss: 2.9943 - acc: 0.2471 - val_loss: 4.4685 - val_acc: 0.0000e+00\n",
      "Epoch 29/100\n",
      "8160/8160 [==============================] - 0s - loss: 2.9519 - acc: 0.2604 - val_loss: 4.4964 - val_acc: 0.0000e+00\n",
      "Epoch 30/100\n",
      "8160/8160 [==============================] - 0s - loss: 2.9052 - acc: 0.2755 - val_loss: 4.5283 - val_acc: 0.0000e+00\n",
      "Epoch 31/100\n",
      "8160/8160 [==============================] - 0s - loss: 2.8613 - acc: 0.2866 - val_loss: 4.5444 - val_acc: 0.0000e+00\n",
      "Epoch 32/100\n",
      "8160/8160 [==============================] - 0s - loss: 2.8163 - acc: 0.3018 - val_loss: 4.5666 - val_acc: 0.0000e+00\n",
      "Epoch 33/100\n",
      "8160/8160 [==============================] - 0s - loss: 2.7703 - acc: 0.3270 - val_loss: 4.5858 - val_acc: 0.0000e+00\n",
      "Epoch 34/100\n",
      "8160/8160 [==============================] - 0s - loss: 2.7273 - acc: 0.3346 - val_loss: 4.6055 - val_acc: 0.0000e+00\n",
      "Epoch 35/100\n",
      "8160/8160 [==============================] - 0s - loss: 2.6763 - acc: 0.3600 - val_loss: 4.6371 - val_acc: 0.0000e+00\n",
      "Epoch 36/100\n",
      "8160/8160 [==============================] - 0s - loss: 2.6313 - acc: 0.3652 - val_loss: 4.6652 - val_acc: 0.0000e+00\n",
      "Epoch 37/100\n",
      "8160/8160 [==============================] - 0s - loss: 2.5857 - acc: 0.3850 - val_loss: 4.6830 - val_acc: 0.0000e+00\n",
      "Epoch 38/100\n",
      "8160/8160 [==============================] - 0s - loss: 2.5387 - acc: 0.4091 - val_loss: 4.7099 - val_acc: 0.0000e+00\n",
      "Epoch 39/100\n",
      "8160/8160 [==============================] - 0s - loss: 2.4929 - acc: 0.4202 - val_loss: 4.7278 - val_acc: 4.8996e-04\n",
      "Epoch 40/100\n",
      "8160/8160 [==============================] - 0s - loss: 2.4450 - acc: 0.4363 - val_loss: 4.7456 - val_acc: 0.0000e+00\n",
      "Epoch 41/100\n",
      "8160/8160 [==============================] - 0s - loss: 2.3970 - acc: 0.4569 - val_loss: 4.7710 - val_acc: 0.0000e+00\n",
      "Epoch 42/100\n",
      "8160/8160 [==============================] - 0s - loss: 2.3474 - acc: 0.4719 - val_loss: 4.7812 - val_acc: 4.8996e-04\n",
      "Epoch 43/100\n",
      "8160/8160 [==============================] - 0s - loss: 2.3023 - acc: 0.4869 - val_loss: 4.8066 - val_acc: 0.0000e+00\n",
      "Epoch 44/100\n",
      "8160/8160 [==============================] - 0s - loss: 2.2541 - acc: 0.5010 - val_loss: 4.8269 - val_acc: 0.0000e+00\n",
      "Epoch 45/100\n",
      "8160/8160 [==============================] - 0s - loss: 2.2024 - acc: 0.5275 - val_loss: 4.8438 - val_acc: 0.0000e+00\n",
      "Epoch 46/100\n",
      "8160/8160 [==============================] - 0s - loss: 2.1557 - acc: 0.5429 - val_loss: 4.8597 - val_acc: 0.0000e+00\n",
      "Epoch 47/100\n",
      "8160/8160 [==============================] - 0s - loss: 2.1106 - acc: 0.5490 - val_loss: 4.8673 - val_acc: 0.0000e+00\n",
      "Epoch 48/100\n",
      "8160/8160 [==============================] - 0s - loss: 2.0571 - acc: 0.5734 - val_loss: 4.8883 - val_acc: 0.0000e+00\n",
      "Epoch 49/100\n",
      "8160/8160 [==============================] - 0s - loss: 2.0115 - acc: 0.5849 - val_loss: 4.9074 - val_acc: 0.0000e+00\n",
      "Epoch 50/100\n",
      "8160/8160 [==============================] - 0s - loss: 1.9579 - acc: 0.6081 - val_loss: 4.8996 - val_acc: 0.0000e+00\n",
      "Epoch 51/100\n",
      "8160/8160 [==============================] - 0s - loss: 1.9068 - acc: 0.6200 - val_loss: 4.9138 - val_acc: 4.8996e-04\n",
      "Epoch 52/100\n",
      "8160/8160 [==============================] - 0s - loss: 1.8595 - acc: 0.6373 - val_loss: 4.9283 - val_acc: 4.8996e-04\n",
      "Epoch 53/100\n",
      "8160/8160 [==============================] - 0s - loss: 1.8134 - acc: 0.6502 - val_loss: 4.9283 - val_acc: 4.8996e-04\n",
      "Epoch 54/100\n",
      "8160/8160 [==============================] - 0s - loss: 1.7607 - acc: 0.6707 - val_loss: 4.9318 - val_acc: 4.8996e-04\n",
      "Epoch 55/100\n",
      "8160/8160 [==============================] - 0s - loss: 1.7086 - acc: 0.6866 - val_loss: 4.9392 - val_acc: 4.8996e-04\n",
      "Epoch 56/100\n",
      "8160/8160 [==============================] - 0s - loss: 1.6603 - acc: 0.7048 - val_loss: 4.9494 - val_acc: 9.7991e-04\n",
      "Epoch 57/100\n",
      "8160/8160 [==============================] - 0s - loss: 1.6105 - acc: 0.7200 - val_loss: 4.9349 - val_acc: 4.8996e-04\n",
      "Epoch 58/100\n",
      "8160/8160 [==============================] - 0s - loss: 1.5600 - acc: 0.7369 - val_loss: 4.9530 - val_acc: 0.0024\n",
      "Epoch 59/100\n",
      "8160/8160 [==============================] - 0s - loss: 1.5121 - acc: 0.7483 - val_loss: 4.9557 - val_acc: 9.7991e-04\n",
      "Epoch 60/100\n",
      "8160/8160 [==============================] - 0s - loss: 1.4614 - acc: 0.7706 - val_loss: 4.9557 - val_acc: 0.0015\n",
      "Epoch 61/100\n",
      "8160/8160 [==============================] - 0s - loss: 1.4156 - acc: 0.7803 - val_loss: 4.9501 - val_acc: 0.0024\n",
      "Epoch 62/100\n",
      "8160/8160 [==============================] - 0s - loss: 1.3673 - acc: 0.7973 - val_loss: 4.9362 - val_acc: 0.0020\n",
      "Epoch 63/100\n"
     ]
    },
    {
     "name": "stdout",
     "output_type": "stream",
     "text": [
      "8160/8160 [==============================] - 0s - loss: 1.3195 - acc: 0.8056 - val_loss: 4.9349 - val_acc: 0.0029\n",
      "Epoch 64/100\n",
      "8160/8160 [==============================] - 0s - loss: 1.2718 - acc: 0.8216 - val_loss: 4.9347 - val_acc: 0.0049\n",
      "Epoch 65/100\n",
      "8160/8160 [==============================] - 0s - loss: 1.2273 - acc: 0.8325 - val_loss: 4.9300 - val_acc: 0.0044\n",
      "Epoch 66/100\n",
      "8160/8160 [==============================] - 0s - loss: 1.1809 - acc: 0.8488 - val_loss: 4.9146 - val_acc: 0.0029\n",
      "Epoch 67/100\n",
      "8160/8160 [==============================] - 0s - loss: 1.1360 - acc: 0.8577 - val_loss: 4.9104 - val_acc: 0.0054\n",
      "Epoch 68/100\n",
      "8160/8160 [==============================] - 0s - loss: 1.0907 - acc: 0.8676 - val_loss: 4.9033 - val_acc: 0.0064\n",
      "Epoch 69/100\n",
      "8160/8160 [==============================] - 0s - loss: 1.0495 - acc: 0.8789 - val_loss: 4.8961 - val_acc: 0.0054\n",
      "Epoch 70/100\n",
      "8160/8160 [==============================] - 0s - loss: 1.0049 - acc: 0.8918 - val_loss: 4.8961 - val_acc: 0.0064\n",
      "Epoch 71/100\n",
      "8160/8160 [==============================] - 0s - loss: 0.9629 - acc: 0.9007 - val_loss: 4.8571 - val_acc: 0.0064\n",
      "Epoch 72/100\n",
      "8160/8160 [==============================] - 0s - loss: 0.9258 - acc: 0.9058 - val_loss: 4.8527 - val_acc: 0.0093\n",
      "Epoch 73/100\n",
      "8160/8160 [==============================] - 0s - loss: 0.8839 - acc: 0.9162 - val_loss: 4.8535 - val_acc: 0.0083\n",
      "Epoch 74/100\n",
      "8160/8160 [==============================] - 0s - loss: 0.8460 - acc: 0.9259 - val_loss: 4.8412 - val_acc: 0.0103\n",
      "Epoch 75/100\n",
      "8160/8160 [==============================] - 0s - loss: 0.8107 - acc: 0.9326 - val_loss: 4.8170 - val_acc: 0.0103\n",
      "Epoch 76/100\n",
      "8160/8160 [==============================] - 0s - loss: 0.7716 - acc: 0.9431 - val_loss: 4.8108 - val_acc: 0.0118\n",
      "Epoch 77/100\n",
      "8160/8160 [==============================] - 0s - loss: 0.7372 - acc: 0.9442 - val_loss: 4.7996 - val_acc: 0.0108\n",
      "Epoch 78/100\n",
      "8160/8160 [==============================] - 0s - loss: 0.7025 - acc: 0.9534 - val_loss: 4.7764 - val_acc: 0.0142\n",
      "Epoch 79/100\n",
      "8160/8160 [==============================] - 0s - loss: 0.6696 - acc: 0.9556 - val_loss: 4.7811 - val_acc: 0.0147\n",
      "Epoch 80/100\n",
      "8160/8160 [==============================] - 0s - loss: 0.6381 - acc: 0.9642 - val_loss: 4.7618 - val_acc: 0.0157\n",
      "Epoch 81/100\n",
      "8160/8160 [==============================] - 0s - loss: 0.6074 - acc: 0.9678 - val_loss: 4.7450 - val_acc: 0.0186\n",
      "Epoch 82/100\n",
      "8160/8160 [==============================] - 0s - loss: 0.5772 - acc: 0.9730 - val_loss: 4.7263 - val_acc: 0.0167\n",
      "Epoch 83/100\n",
      "8160/8160 [==============================] - 0s - loss: 0.5502 - acc: 0.9754 - val_loss: 4.7079 - val_acc: 0.0191\n",
      "Epoch 84/100\n",
      "8160/8160 [==============================] - 0s - loss: 0.5214 - acc: 0.9777 - val_loss: 4.6925 - val_acc: 0.0186\n",
      "Epoch 85/100\n",
      "8160/8160 [==============================] - 0s - loss: 0.4964 - acc: 0.9808 - val_loss: 4.7034 - val_acc: 0.0235\n",
      "Epoch 86/100\n",
      "8160/8160 [==============================] - 0s - loss: 0.4700 - acc: 0.9849 - val_loss: 4.6739 - val_acc: 0.0250\n",
      "Epoch 87/100\n",
      "8160/8160 [==============================] - 0s - loss: 0.4454 - acc: 0.9880 - val_loss: 4.6588 - val_acc: 0.0269\n",
      "Epoch 88/100\n",
      "8160/8160 [==============================] - 0s - loss: 0.4237 - acc: 0.9884 - val_loss: 4.6474 - val_acc: 0.0284\n",
      "Epoch 89/100\n",
      "8160/8160 [==============================] - 0s - loss: 0.4019 - acc: 0.9902 - val_loss: 4.6329 - val_acc: 0.0318\n",
      "Epoch 90/100\n",
      "8160/8160 [==============================] - 0s - loss: 0.3800 - acc: 0.9919 - val_loss: 4.6278 - val_acc: 0.0333\n",
      "Epoch 91/100\n",
      "8160/8160 [==============================] - 0s - loss: 0.3599 - acc: 0.9934 - val_loss: 4.6111 - val_acc: 0.0367\n",
      "Epoch 92/100\n",
      "8160/8160 [==============================] - 0s - loss: 0.3404 - acc: 0.9947 - val_loss: 4.6006 - val_acc: 0.0431\n",
      "Epoch 93/100\n",
      "8160/8160 [==============================] - 0s - loss: 0.3221 - acc: 0.9962 - val_loss: 4.5891 - val_acc: 0.0397\n",
      "Epoch 94/100\n",
      "8160/8160 [==============================] - 0s - loss: 0.3052 - acc: 0.9961 - val_loss: 4.5769 - val_acc: 0.0475\n",
      "Epoch 95/100\n",
      "8160/8160 [==============================] - 0s - loss: 0.2896 - acc: 0.9972 - val_loss: 4.5606 - val_acc: 0.0461\n",
      "Epoch 96/100\n",
      "8160/8160 [==============================] - 0s - loss: 0.2736 - acc: 0.9972 - val_loss: 4.5460 - val_acc: 0.0495\n",
      "Epoch 97/100\n",
      "8160/8160 [==============================] - 0s - loss: 0.2591 - acc: 0.9984 - val_loss: 4.5398 - val_acc: 0.0524\n",
      "Epoch 98/100\n",
      "8160/8160 [==============================] - 0s - loss: 0.2449 - acc: 0.9984 - val_loss: 4.5212 - val_acc: 0.0510\n",
      "Epoch 99/100\n",
      "8160/8160 [==============================] - 0s - loss: 0.2322 - acc: 0.9988 - val_loss: 4.5130 - val_acc: 0.0578\n",
      "Epoch 100/100\n",
      "8160/8160 [==============================] - 0s - loss: 0.2188 - acc: 0.9993 - val_loss: 4.4985 - val_acc: 0.0563\n"
     ]
    }
   ],
   "source": [
    "history = model.fit(x_train, y_train,\n",
    "                    batch_size=batch_size,\n",
    "                    epochs=training_epochs,\n",
    "                    verbose=1, # This is for what we want it to display out as it trains \n",
    "                    validation_data=(x_test, y_test))"
   ]
  },
  {
   "cell_type": "code",
   "execution_count": 13,
   "metadata": {},
   "outputs": [
    {
     "data": {
      "image/png": "[encoded data removed]",
      "text/plain": [
       "<matplotlib.figure.Figure at 0x11900c898>"
      ]
     },
     "metadata": {},
     "output_type": "display_data"
    }
   ],
   "source": [
    "plot_train(history)"
   ]
  },
  {
   "cell_type": "code",
   "execution_count": 20,
   "metadata": {},
   "outputs": [
    {
     "name": "stdout",
     "output_type": "stream",
     "text": [
      "687\n",
      "71\n"
     ]
    }
   ],
   "source": [
    "preds = model.predict(x_train[10:15])\n",
    "print(np.argmax(preds))\n",
    "print(np.argmax(y_train[10:15]))"
   ]
  },
  {
   "cell_type": "markdown",
   "metadata": {},
   "source": [
    "### Lets import our dataset"
   ]
  },
  {
   "cell_type": "code",
   "execution_count": 4,
   "metadata": {
    "collapsed": true
   },
   "outputs": [],
   "source": [
    "reviews = pd.read_csv('./imdb_data/reviews.txt', header=None)\n",
    "labels = pd.read_csv('./imdb_data/labels_ohe.csv', header=None)"
   ]
  },
  {
   "cell_type": "code",
   "execution_count": 5,
   "metadata": {},
   "outputs": [
    {
     "data": {
      "text/plain": [
       "25000"
      ]
     },
     "execution_count": 5,
     "metadata": {},
     "output_type": "execute_result"
    }
   ],
   "source": [
    "len(reviews)"
   ]
  },
  {
   "cell_type": "code",
   "execution_count": 6,
   "metadata": {},
   "outputs": [
    {
     "data": {
      "text/plain": [
       "'brilliant over  acting by lesley ann warren . best dramatic hobo lady i have ever seen  and love scenes in clothes warehouse are second to none . the corn on face is a classic  as good as anything in blazing saddles . the take on lawyers is also superb . after being accused of being a turncoat  selling out his boss  and being dishonest the lawyer of pepto bolt shrugs indifferently  i  m a lawyer  he says . three funny words . jeffrey tambor  a favorite from the later larry sanders show  is fantastic here too as a mad millionaire who wants to crush the ghetto . his character is more malevolent than usual . the hospital scene  and the scene where the homeless invade a demolition site  are all  time classics . look for the legs scene and the two big diggers fighting  one bleeds  . this movie gets better each time i see it  which is quite often  .  '"
      ]
     },
     "execution_count": 6,
     "metadata": {},
     "output_type": "execute_result"
    }
   ],
   "source": [
    "reviews.head()\n",
    "reviews[0][4]"
   ]
  },
  {
   "cell_type": "code",
   "execution_count": 41,
   "metadata": {},
   "outputs": [
    {
     "data": {
      "text/html": [
       "<div>\n",
       "<style>\n",
       "    .dataframe thead tr:only-child th {\n",
       "        text-align: right;\n",
       "    }\n",
       "\n",
       "    .dataframe thead th {\n",
       "        text-align: left;\n",
       "    }\n",
       "\n",
       "    .dataframe tbody tr th {\n",
       "        vertical-align: top;\n",
       "    }\n",
       "</style>\n",
       "<table border=\"1\" class=\"dataframe\">\n",
       "  <thead>\n",
       "    <tr style=\"text-align: right;\">\n",
       "      <th></th>\n",
       "      <th>0</th>\n",
       "      <th>1</th>\n",
       "    </tr>\n",
       "  </thead>\n",
       "  <tbody>\n",
       "    <tr>\n",
       "      <th>0</th>\n",
       "      <td>0.0</td>\n",
       "      <td>1.0</td>\n",
       "    </tr>\n",
       "    <tr>\n",
       "      <th>1</th>\n",
       "      <td>1.0</td>\n",
       "      <td>0.0</td>\n",
       "    </tr>\n",
       "    <tr>\n",
       "      <th>2</th>\n",
       "      <td>0.0</td>\n",
       "      <td>1.0</td>\n",
       "    </tr>\n",
       "    <tr>\n",
       "      <th>3</th>\n",
       "      <td>1.0</td>\n",
       "      <td>0.0</td>\n",
       "    </tr>\n",
       "    <tr>\n",
       "      <th>4</th>\n",
       "      <td>0.0</td>\n",
       "      <td>1.0</td>\n",
       "    </tr>\n",
       "  </tbody>\n",
       "</table>\n",
       "</div>"
      ],
      "text/plain": [
       "     0    1\n",
       "0  0.0  1.0\n",
       "1  1.0  0.0\n",
       "2  0.0  1.0\n",
       "3  1.0  0.0\n",
       "4  0.0  1.0"
      ]
     },
     "execution_count": 41,
     "metadata": {},
     "output_type": "execute_result"
    }
   ],
   "source": [
    "\n",
    "labels[:5]\n",
    "# 0 = bad 1 = good"
   ]
  },
  {
   "cell_type": "markdown",
   "metadata": {},
   "source": [
    "Counting the words in the dataset"
   ]
  },
  {
   "cell_type": "code",
   "execution_count": 8,
   "metadata": {},
   "outputs": [
    {
     "name": "stdout",
     "output_type": "stream",
     "text": [
      "Total words in data set:  74074\n"
     ]
    }
   ],
   "source": [
    "total_counts = Counter()\n",
    "for i,row in reviews.iterrows():\n",
    "    total_counts.update(row[0].split(' '))\n",
    "\n",
    "print(\"Total words in data set: \", len(total_counts))"
   ]
  },
  {
   "cell_type": "markdown",
   "metadata": {},
   "source": [
    "Just keeping the 10k most frequent words"
   ]
  },
  {
   "cell_type": "code",
   "execution_count": 9,
   "metadata": {},
   "outputs": [
    {
     "name": "stdout",
     "output_type": "stream",
     "text": [
      "['like', 'there', 'her', 'or', 'just', 'about', 'out', 'if', 'has', 'what']\n"
     ]
    }
   ],
   "source": [
    "vocab = sorted(total_counts, key=total_counts.get, reverse=True)[:10000]\n",
    "print(vocab[40:50])"
   ]
  },
  {
   "cell_type": "code",
   "execution_count": 10,
   "metadata": {},
   "outputs": [
    {
     "name": "stdout",
     "output_type": "stream",
     "text": [
      "the :  336713\n"
     ]
    }
   ],
   "source": [
    "print(vocab[1], ': ', total_counts[vocab[1]])"
   ]
  },
  {
   "cell_type": "markdown",
   "metadata": {},
   "source": [
    "### Making our word index table\n",
    "\n",
    "we can input a word it gives back the number"
   ]
  },
  {
   "cell_type": "code",
   "execution_count": 11,
   "metadata": {
    "collapsed": true
   },
   "outputs": [],
   "source": [
    "word2idx = {word: i for i, word in enumerate(vocab)} #dictionary comprehension "
   ]
  },
  {
   "cell_type": "code",
   "execution_count": 12,
   "metadata": {},
   "outputs": [
    {
     "data": {
      "text/plain": [
       "51"
      ]
     },
     "execution_count": 12,
     "metadata": {},
     "output_type": "execute_result"
    }
   ],
   "source": [
    "word2idx['good']"
   ]
  },
  {
   "cell_type": "markdown",
   "metadata": {},
   "source": [
    "Convert the a review to a vector of words 10k long"
   ]
  },
  {
   "cell_type": "code",
   "execution_count": 13,
   "metadata": {
    "collapsed": true
   },
   "outputs": [],
   "source": [
    "def text_to_vector(text):\n",
    "    word_vector = np.zeros(len(vocab), dtype=np.int_)\n",
    "    for word in text.split(' '):\n",
    "        idx = word2idx.get(word,None)\n",
    "        if idx is None:\n",
    "            continue\n",
    "        else:\n",
    "            word_vector[idx] = 1 # was += 1\n",
    "    return np.array(word_vector)"
   ]
  },
  {
   "cell_type": "code",
   "execution_count": 14,
   "metadata": {},
   "outputs": [
    {
     "data": {
      "text/plain": [
       "array([0, 0, 0, 1, 0, 1, 0, 0, 0, 0, 0, 0, 1, 0, 0, 0, 0, 0, 0, 0, 0, 0, 0,\n",
       "       0, 0, 0, 0, 0, 0, 0, 0, 0, 0, 0, 0, 0, 0, 0, 0, 0, 0, 0, 0, 0, 0, 0,\n",
       "       0, 0, 0, 0, 0, 1, 0, 0, 0, 0, 0, 0, 0, 0, 0, 0, 0, 0, 0])"
      ]
     },
     "execution_count": 14,
     "metadata": {},
     "output_type": "execute_result"
    }
   ],
   "source": [
    "text_to_vector('There were lots of good movies and stars this year')[:65]"
   ]
  },
  {
   "cell_type": "code",
   "execution_count": 15,
   "metadata": {},
   "outputs": [
    {
     "data": {
      "text/plain": [
       "(10000,)"
      ]
     },
     "execution_count": 15,
     "metadata": {},
     "output_type": "execute_result"
    }
   ],
   "source": [
    "test_word_vector = text_to_vector('There were lots of good movies and stars this year')\n",
    "test_word_vector.shape"
   ]
  },
  {
   "cell_type": "markdown",
   "metadata": {},
   "source": [
    "Now do that for the whole corpus"
   ]
  },
  {
   "cell_type": "code",
   "execution_count": 16,
   "metadata": {
    "collapsed": true
   },
   "outputs": [],
   "source": [
    "word_vectors = np.zeros((len(reviews), len(vocab)), dtype=np.int_)\n",
    "for ii, (_, text) in enumerate(reviews.iterrows()):\n",
    "    word_vectors[ii] = text_to_vector(text[0])"
   ]
  },
  {
   "cell_type": "code",
   "execution_count": 17,
   "metadata": {},
   "outputs": [
    {
     "name": "stdout",
     "output_type": "stream",
     "text": [
      "[[1 1 1 1 1 1 1 1 0 1 1 1 0 1 1 0 1 0 0 0 0 0 0 0 1]\n",
      " [1 1 1 1 1 1 1 1 0 1 0 0 0 1 1 0 0 1 1 0 0 0 1 1 0]\n",
      " [1 1 1 1 1 1 1 1 1 1 1 1 1 1 1 0 1 1 1 0 1 1 1 1 1]]\n",
      "                                                   0\n",
      "0  bromwell high is a cartoon comedy . it ran at ...\n",
      "1  story of a man who has unnatural feelings for ...\n",
      "2  homelessness  or houselessness as george carli...\n"
     ]
    }
   ],
   "source": [
    "# Printing out the first 3 word vectors\n",
    "print(word_vectors[:3, :25])\n",
    "print(reviews[:3])"
   ]
  },
  {
   "cell_type": "markdown",
   "metadata": {},
   "source": [
    "Lets see what our tensor looks like"
   ]
  },
  {
   "cell_type": "code",
   "execution_count": 18,
   "metadata": {},
   "outputs": [
    {
     "data": {
      "text/plain": [
       "(25000, 10000)"
      ]
     },
     "execution_count": 18,
     "metadata": {},
     "output_type": "execute_result"
    }
   ],
   "source": [
    "word_vectors.shape"
   ]
  },
  {
   "cell_type": "code",
   "execution_count": 19,
   "metadata": {},
   "outputs": [
    {
     "name": "stdout",
     "output_type": "stream",
     "text": [
      "(20000, 10000)\n",
      "(20000, 2)\n",
      "(5000, 10000)\n",
      "(5000, 2)\n"
     ]
    },
    {
     "data": {
      "text/plain": [
       "numpy.int64"
      ]
     },
     "execution_count": 19,
     "metadata": {},
     "output_type": "execute_result"
    }
   ],
   "source": [
    "\n",
    "number_of_records = len(labels)\n",
    "shuffle = np.arange(number_of_records)\n",
    "np.random.shuffle(shuffle)\n",
    "test_fraction = 0.8\n",
    "\n",
    "#print(int(number_of_records*test_fraction))\n",
    "\n",
    "#making a train / test split\n",
    "train_split, test_split = shuffle[:int(number_of_records*test_fraction)], shuffle[int(number_of_records*test_fraction):]\n",
    "x_train, y_train = word_vectors[train_split,:], labels.values[train_split,:]\n",
    "x_test, y_test = word_vectors[test_split,:], labels.values[test_split]\n",
    "\n",
    "print(x_train.shape)\n",
    "print(y_train.shape)\n",
    "print(x_test.shape)\n",
    "print(y_test.shape)\n",
    "type(x_test[0][0])"
   ]
  },
  {
   "cell_type": "code",
   "execution_count": 20,
   "metadata": {
    "collapsed": true
   },
   "outputs": [],
   "source": [
    "x_train, x_test, y_train, y_test = train_test_split(word_vectors,labels.values,test_size=0.2)"
   ]
  },
  {
   "cell_type": "code",
   "execution_count": 21,
   "metadata": {},
   "outputs": [
    {
     "data": {
      "text/plain": [
       "(10000,)"
      ]
     },
     "execution_count": 21,
     "metadata": {},
     "output_type": "execute_result"
    }
   ],
   "source": [
    "x_test[0].shape"
   ]
  },
  {
   "cell_type": "code",
   "execution_count": 22,
   "metadata": {},
   "outputs": [
    {
     "name": "stdout",
     "output_type": "stream",
     "text": [
      "(20000, 10000)\n",
      "(20000, 2)\n",
      "(5000, 10000)\n",
      "(5000, 2)\n"
     ]
    },
    {
     "data": {
      "text/plain": [
       "numpy.int64"
      ]
     },
     "execution_count": 22,
     "metadata": {},
     "output_type": "execute_result"
    }
   ],
   "source": [
    "print(x_train.shape)\n",
    "print(y_train.shape)\n",
    "print(x_test.shape)\n",
    "print(y_test.shape)\n",
    "type(x_test[0][0])"
   ]
  },
  {
   "cell_type": "code",
   "execution_count": 23,
   "metadata": {
    "collapsed": true
   },
   "outputs": [],
   "source": [
    "# Training Parameters for basic MNIST\n",
    "learning_rate = 0.1 \n",
    "training_epochs = 10\n",
    "batch_size = 100\n",
    "\n",
    "# Network Parameters\n",
    "n_input = 10000 # MNIST data input (img shape: 28*28 flattened to be 784)\n",
    "n_hidden_1 = 100 # 1st layer number of neurons\n",
    "n_hidden_2 = 100 # 2nd layer number of neurons\n",
    "n_hidden_3 = 100 # 2nd layer number of neurons\n",
    "n_classes = 2 # MNIST classes for prediction(digits 0-9 )"
   ]
  },
  {
   "cell_type": "code",
   "execution_count": 24,
   "metadata": {
    "collapsed": true
   },
   "outputs": [],
   "source": [
    "Inp = Input(shape=(n_input,))\n",
    "x = Dense(n_hidden_1, activation='relu', name = \"Dense_1\")(Inp)\n",
    "x = Dropout(0.8)(x)\n",
    "x = Dense(n_hidden_2, activation='relu', name = \"Dense_2\")(x)\n",
    "x = Dropout(0.8)(x)\n",
    "x = Dense(n_hidden_3, activation='relu', name = \"Dense_3\")(x)\n",
    "x = Dropout(0.5)(x)\n",
    "output = Dense(n_classes, activation='softmax', name = \"Outputlayer\")(x)\n"
   ]
  },
  {
   "cell_type": "code",
   "execution_count": 25,
   "metadata": {
    "collapsed": true
   },
   "outputs": [],
   "source": [
    "model = Model(Inp, output)"
   ]
  },
  {
   "cell_type": "code",
   "execution_count": 26,
   "metadata": {},
   "outputs": [
    {
     "name": "stdout",
     "output_type": "stream",
     "text": [
      "_________________________________________________________________\n",
      "Layer (type)                 Output Shape              Param #   \n",
      "=================================================================\n",
      "input_1 (InputLayer)         (None, 10000)             0         \n",
      "_________________________________________________________________\n",
      "Dense_1 (Dense)              (None, 100)               1000100   \n",
      "_________________________________________________________________\n",
      "dropout_1 (Dropout)          (None, 100)               0         \n",
      "_________________________________________________________________\n",
      "Dense_2 (Dense)              (None, 100)               10100     \n",
      "_________________________________________________________________\n",
      "dropout_2 (Dropout)          (None, 100)               0         \n",
      "_________________________________________________________________\n",
      "Dense_3 (Dense)              (None, 100)               10100     \n",
      "_________________________________________________________________\n",
      "dropout_3 (Dropout)          (None, 100)               0         \n",
      "_________________________________________________________________\n",
      "Outputlayer (Dense)          (None, 2)                 202       \n",
      "=================================================================\n",
      "Total params: 1,020,502\n",
      "Trainable params: 1,020,502\n",
      "Non-trainable params: 0\n",
      "_________________________________________________________________\n"
     ]
    }
   ],
   "source": [
    "model.summary()"
   ]
  },
  {
   "cell_type": "code",
   "execution_count": 27,
   "metadata": {
    "collapsed": true
   },
   "outputs": [],
   "source": [
    "model.compile(loss='categorical_crossentropy',\n",
    "              optimizer='adam',\n",
    "              metrics=['acc'])\n",
    "history = model.fit(x_train, y_train,\n",
    "                    batch_size=batch_size,\n",
    "                    epochs=training_epochs,\n",
    "                    verbose=1, # This is for what we want it to display out as it trains \n",
    "                    validation_data=(x_test, y_test))"
   ]
  },
  {
   "cell_type": "code",
   "execution_count": 28,
   "metadata": {},
   "outputs": [
    {
     "name": "stdout",
     "output_type": "stream",
     "text": [
      "Train on 20000 samples, validate on 5000 samples\n",
      "Epoch 1/10\n",
      "20000/20000 [==============================] - 4s - loss: 0.6688 - acc: 0.5906 - val_loss: 0.5576 - val_acc: 0.8064\n",
      "Epoch 2/10\n",
      "20000/20000 [==============================] - 3s - loss: 0.5253 - acc: 0.7581 - val_loss: 0.4255 - val_acc: 0.8500\n",
      "Epoch 3/10\n",
      "20000/20000 [==============================] - 3s - loss: 0.4514 - acc: 0.8066 - val_loss: 0.3777 - val_acc: 0.8746\n",
      "Epoch 4/10\n",
      "20000/20000 [==============================] - 3s - loss: 0.4048 - acc: 0.8361 - val_loss: 0.3740 - val_acc: 0.8702\n",
      "Epoch 5/10\n",
      "20000/20000 [==============================] - 3s - loss: 0.3768 - acc: 0.8518 - val_loss: 0.4016 - val_acc: 0.8704\n",
      "Epoch 6/10\n",
      "20000/20000 [==============================] - 3s - loss: 0.3613 - acc: 0.8596 - val_loss: 0.3750 - val_acc: 0.8738\n",
      "Epoch 7/10\n",
      "20000/20000 [==============================] - 3s - loss: 0.3431 - acc: 0.8725 - val_loss: 0.3766 - val_acc: 0.8742\n",
      "Epoch 8/10\n",
      "20000/20000 [==============================] - 4s - loss: 0.3267 - acc: 0.8758 - val_loss: 0.3599 - val_acc: 0.8748\n",
      "Epoch 9/10\n",
      "20000/20000 [==============================] - 3s - loss: 0.3095 - acc: 0.8847 - val_loss: 0.3228 - val_acc: 0.8886\n",
      "Epoch 10/10\n",
      "20000/20000 [==============================] - 3s - loss: 0.3050 - acc: 0.8889 - val_loss: 0.3448 - val_acc: 0.8790\n"
     ]
    }
   ],
   "source": [
    "history = model.fit(x_train, y_train,\n",
    "                    batch_size=batch_size,\n",
    "                    epochs=training_epochs,\n",
    "                    verbose=1, # This is for what we want it to display out as it trains \n",
    "                    validation_data=(x_test, y_test))"
   ]
  },
  {
   "cell_type": "code",
   "execution_count": 29,
   "metadata": {
    "collapsed": true
   },
   "outputs": [],
   "source": [
    "def plot_train(hist):\n",
    "    h = hist.history\n",
    "    if 'acc' in h:\n",
    "        meas='acc'\n",
    "        loc='lower right'\n",
    "    else:\n",
    "        meas='loss'\n",
    "        loc='upper right'\n",
    "    plt.plot(hist.history[meas])\n",
    "    plt.plot(hist.history['val_'+meas])\n",
    "    plt.title('model '+meas)\n",
    "    plt.ylabel(meas)\n",
    "    plt.xlabel('epoch')\n",
    "    plt.legend(['train', 'validation'], loc=loc)"
   ]
  },
  {
   "cell_type": "code",
   "execution_count": 30,
   "metadata": {},
   "outputs": [
    {
     "data": {
      "image/png": "[encoded data removed]",
      "text/plain": [
       "<matplotlib.figure.Figure at 0x191f454a8>"
      ]
     },
     "metadata": {},
     "output_type": "display_data"
    }
   ],
   "source": [
    "plot_train(history)"
   ]
  },
  {
   "cell_type": "code",
   "execution_count": 31,
   "metadata": {
    "collapsed": true
   },
   "outputs": [],
   "source": [
    "preds = model.predict(x_test[10:15])"
   ]
  },
  {
   "cell_type": "code",
   "execution_count": 32,
   "metadata": {},
   "outputs": [
    {
     "data": {
      "text/plain": [
       "array([[ 0.11848659,  0.88151342],\n",
       "       [ 0.46512419,  0.53487581],\n",
       "       [ 0.11195334,  0.88804668],\n",
       "       [ 0.52787238,  0.47212759],\n",
       "       [ 0.18762611,  0.81237382]], dtype=float32)"
      ]
     },
     "execution_count": 32,
     "metadata": {},
     "output_type": "execute_result"
    }
   ],
   "source": [
    "preds"
   ]
  },
  {
   "cell_type": "code",
   "execution_count": 33,
   "metadata": {},
   "outputs": [
    {
     "data": {
      "text/plain": [
       "array([[ 1.,  0.],\n",
       "       [ 0.,  1.],\n",
       "       [ 0.,  1.],\n",
       "       [ 0.,  1.],\n",
       "       [ 1.,  0.]])"
      ]
     },
     "execution_count": 33,
     "metadata": {},
     "output_type": "execute_result"
    }
   ],
   "source": [
    "y_test[10:15]"
   ]
  },
  {
   "cell_type": "code",
   "execution_count": 34,
   "metadata": {},
   "outputs": [
    {
     "data": {
      "text/plain": [
       "array([[ 0.11848659,  0.88151342],\n",
       "       [ 0.46512419,  0.53487581],\n",
       "       [ 0.11195334,  0.88804668],\n",
       "       [ 0.52787238,  0.47212759],\n",
       "       [ 0.18762611,  0.81237382]], dtype=float32)"
      ]
     },
     "execution_count": 34,
     "metadata": {},
     "output_type": "execute_result"
    }
   ],
   "source": [
    "model.predict_on_batch(x_test[10:15])"
   ]
  },
  {
   "cell_type": "code",
   "execution_count": null,
   "metadata": {
    "collapsed": true
   },
   "outputs": [],
   "source": []
  },
  {
   "cell_type": "code",
   "execution_count": null,
   "metadata": {
    "collapsed": true
   },
   "outputs": [],
   "source": []
  }
 ],
 "metadata": {
  "kernelspec": {
   "display_name": "Python 3",
   "language": "python",
   "name": "python3"
  },
  "language_info": {
   "codemirror_mode": {
    "name": "ipython",
    "version": 3
   },
   "file_extension": ".py",
   "mimetype": "text/x-python",
   "name": "python",
   "nbconvert_exporter": "python",
   "pygments_lexer": "ipython3",
   "version": "3.5.3"
  }
 },
 "nbformat": 4,
 "nbformat_minor": 2
}
