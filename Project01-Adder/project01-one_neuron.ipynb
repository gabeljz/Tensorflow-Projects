{
 "cells": [
  {
   "cell_type": "code",
   "execution_count": 1,
   "metadata": {},
   "outputs": [
    {
     "name": "stderr",
     "output_type": "stream",
     "text": [
      "Using TensorFlow backend.\n"
     ]
    }
   ],
   "source": [
    "%matplotlib inline\n",
    "import matplotlib.pyplot as plt\n",
    "\n",
    "import keras\n",
    "from keras.models import Model, Sequential\n",
    "from keras.layers import *\n",
    "from keras.optimizers import Adam\n",
    "\n",
    "import tensorflow as tf\n",
    "import numpy as np\n",
    "\n",
    "import pandas as pd\n",
    "from collections import Counter\n",
    "from sklearn.model_selection import train_test_split"
   ]
  },
  {
   "cell_type": "markdown",
   "metadata": {},
   "source": [
    "# One-neuron model\n",
    "\n",
    "### Inputs\n",
    "\n",
    "* Interger between **0 to 100**\n",
    "* Normalised by dividing by **100**\n",
    "* Become floating numbers between **0 to 1**\n",
    "* Referred to as **input1** and **input2**\n",
    "\n",
    "### Result\n",
    "\n",
    "* Interger between **0 to 200**\n",
    "* Normalised by dividing by **200**\n",
    "* Become floating numbers between **0 to 1**\n",
    "* Referred to as **result**\n",
    "\n",
    "### Formula and values\n",
    "\n",
    "For a neuron with **two inputs**, the formula is:\n",
    "\n",
    "$$ \\begin{aligned}\n",
    "y = w_1x_1 + w_2x_2 + b \\qquad \\text{where} & \\quad x_1, x_2 \\text{ are the two inputs}\n",
    "\\\\ & \\quad w_1, w_2 \\text{ are the weights for the two inputs}\n",
    "\\\\ & \\quad b  \\text{ is the bias}\n",
    "\\end{aligned}$$ \n",
    "\n",
    "With the data sets, $w_1$ and $w_2$ are expected to converge towards $0.5$, while $b$ is expected to converge towards $0$.\n",
    "\n",
    "### Note\n",
    "\n",
    "This one-neuron model was conceptualised independently, but the \"acc\" did not improve after many training in the initial implementation.\n",
    "\n",
    "Looked for other examples on regression and found the \"model.get_weights()\" function in the link below, which allows me to verify that the weights is according to the expectation.\n",
    "\n",
    "https://gist.github.com/macromaniac/630df68eb42d881755a3e30343252f74"
   ]
  },
  {
   "cell_type": "code",
   "execution_count": 2,
   "metadata": {},
   "outputs": [
    {
     "name": "stdout",
     "output_type": "stream",
     "text": [
      "2.0.8\n",
      "1.3.0\n"
     ]
    }
   ],
   "source": [
    "print(keras.__version__)\n",
    "print(tf.__version__)"
   ]
  },
  {
   "cell_type": "code",
   "execution_count": 3,
   "metadata": {
    "collapsed": true
   },
   "outputs": [],
   "source": [
    "def plot_train(hist):\n",
    "    h = hist.history\n",
    "    if 'acc' in h:\n",
    "        meas='acc'\n",
    "        loc='lower right'\n",
    "    else:\n",
    "        meas='loss'\n",
    "        loc='upper right'\n",
    "    plt.plot(hist.history[meas])\n",
    "    plt.plot(hist.history['val_'+meas])\n",
    "    plt.title('model '+meas)\n",
    "    plt.ylabel(meas)\n",
    "    plt.xlabel('epoch')\n",
    "    plt.legend(['train', 'validation'], loc=loc)"
   ]
  },
  {
   "cell_type": "code",
   "execution_count": 4,
   "metadata": {
    "collapsed": true
   },
   "outputs": [],
   "source": [
    "def get_operands_and_sums(operand):\n",
    "    sums = []\n",
    "    for operand1 in operand:\n",
    "        for operand2 in operand:\n",
    "            sums.append(operand1 + operand2)\n",
    "\n",
    "    operands = []\n",
    "    for operand1 in operand:\n",
    "        for operand2 in operand:\n",
    "            operands.append([operand1, operand2])\n",
    "\n",
    "    operands = np.array(operands)\n",
    "    sums = np.array(sums)\n",
    "    operands = operands.astype('float32')\n",
    "    sums = sums.astype('float32')\n",
    "    return (operands, sums)"
   ]
  },
  {
   "cell_type": "code",
   "execution_count": 5,
   "metadata": {},
   "outputs": [
    {
     "name": "stdout",
     "output_type": "stream",
     "text": [
      "10201\n",
      "10201\n",
      "[ 100.  100.]\n",
      "200.0\n"
     ]
    }
   ],
   "source": [
    "# Generate the full set of integers between 0 and 100 as operand\n",
    "operand = np.arange(0, 101);\n",
    "operands, sums = get_operands_and_sums(operand);\n",
    "\n",
    "print(len(operands))\n",
    "print(len(sums))\n",
    "print(operands[10200])\n",
    "print(sums[10200])\n",
    "\n",
    "number_of_records = len(operands)\n",
    "shuffle = np.arange(number_of_records)\n",
    "np.random.shuffle(shuffle)\n",
    "test_fraction = 0.8\n",
    "\n",
    "# print(shuffle)\n",
    "\n",
    "#making a train / test split\n",
    "train_split, test_split = shuffle[:int(number_of_records*test_fraction)], shuffle[int(number_of_records*test_fraction):]\n",
    "# print(train_split)\n",
    "# print(test_split)\n",
    "x_train , y_train = operands[train_split,:] , sums[train_split]\n",
    "x_test , y_test = operands[test_split,:] , sums[test_split]"
   ]
  },
  {
   "cell_type": "code",
   "execution_count": 6,
   "metadata": {
    "collapsed": true
   },
   "outputs": [],
   "source": [
    "# Generate a subset of integers between 0 and 100 as operand\n",
    "\n",
    "# fifties = np.empty(100)\n",
    "# fifties.fill(50)\n",
    "# x_train , y_train = get_operands_and_sums(fifties);\n",
    "\n",
    "multiples_of_two = np.arange(0, 101, 2)\n",
    "x_train , y_train = get_operands_and_sums(multiples_of_two);\n",
    "\n",
    "zero_to_hundred = np.arange(0, 101);\n",
    "x_test , y_test = get_operands_and_sums(zero_to_hundred);"
   ]
  },
  {
   "cell_type": "code",
   "execution_count": 7,
   "metadata": {},
   "outputs": [
    {
     "name": "stdout",
     "output_type": "stream",
     "text": [
      "(2601, 2)\n",
      "(2601,)\n",
      "(10201, 2)\n",
      "(10201,)\n",
      "[ 0.    0.02]\n",
      "0.01\n",
      "[ 0.    0.01]\n",
      "0.005\n"
     ]
    }
   ],
   "source": [
    "x_train /= 100\n",
    "x_test /= 100\n",
    "y_train /= 200\n",
    "y_test /= 200\n",
    "\n",
    "\n",
    "print(x_train.shape)\n",
    "print(y_train.shape)\n",
    "print(x_test.shape)\n",
    "print(y_test.shape)\n",
    "print(x_train[1])\n",
    "print(y_train[1])\n",
    "print(x_test[1])\n",
    "print(y_test[1])"
   ]
  },
  {
   "cell_type": "code",
   "execution_count": 8,
   "metadata": {
    "collapsed": true
   },
   "outputs": [],
   "source": [
    "# Training Parameters for basic MNIST \n",
    "learning_rate = 0.1\n",
    "\n",
    "# Network Parameters\n",
    "n_input = 2\n",
    "n_output = 1"
   ]
  },
  {
   "cell_type": "code",
   "execution_count": 9,
   "metadata": {
    "collapsed": true
   },
   "outputs": [],
   "source": [
    "Inp = Input(shape=(n_input,))\n",
    "output = Dense(n_output, activation='linear', name = \"Outputlayer\")(Inp)"
   ]
  },
  {
   "cell_type": "code",
   "execution_count": 10,
   "metadata": {},
   "outputs": [
    {
     "name": "stdout",
     "output_type": "stream",
     "text": [
      "_________________________________________________________________\n",
      "Layer (type)                 Output Shape              Param #   \n",
      "=================================================================\n",
      "input_1 (InputLayer)         (None, 2)                 0         \n",
      "_________________________________________________________________\n",
      "Outputlayer (Dense)          (None, 1)                 3         \n",
      "=================================================================\n",
      "Total params: 3\n",
      "Trainable params: 3\n",
      "Non-trainable params: 0\n",
      "_________________________________________________________________\n"
     ]
    }
   ],
   "source": [
    "model = Model(Inp, output)\n",
    "model.summary()\n",
    "\n",
    "model.compile(loss='mse',\n",
    "              optimizer='sgd')"
   ]
  },
  {
   "cell_type": "code",
   "execution_count": 11,
   "metadata": {
    "collapsed": true
   },
   "outputs": [],
   "source": [
    "# Training Parameters for basic MNIST \n",
    "\n",
    "# batch size of 1 give the expected weigth,\n",
    "# because every training sample should give a MSE of 0,\n",
    "# the batch size do not matter.\n",
    "# the number of updates to the weights is more important.\n",
    "training_epochs = 2\n",
    "batch_size = 1\n",
    "\n",
    "# To have the same number of updates as above\n",
    "# training_epochs = len(x_train)\n",
    "# batch_size = len(x_train)"
   ]
  },
  {
   "cell_type": "code",
   "execution_count": 12,
   "metadata": {},
   "outputs": [
    {
     "name": "stdout",
     "output_type": "stream",
     "text": [
      "Train on 2601 samples, validate on 10201 samples\n",
      "Epoch 1/2\n",
      "2601/2601 [==============================] - 5s - loss: 0.0166 - val_loss: 7.8542e-05\n",
      "Epoch 2/2\n",
      "2601/2601 [==============================] - 5s - loss: 1.2872e-05 - val_loss: 1.8909e-07\n"
     ]
    }
   ],
   "source": [
    "history = model.fit(x_train, y_train,\n",
    "                    batch_size=batch_size,\n",
    "                    epochs=training_epochs,\n",
    "                    verbose=1, # This is for what we want it to display out as it trains \n",
    "                    validation_data=(x_test, y_test))"
   ]
  },
  {
   "cell_type": "code",
   "execution_count": 13,
   "metadata": {},
   "outputs": [
    {
     "name": "stdout",
     "output_type": "stream",
     "text": [
      "[array([[ 0.49885663],\n",
      "       [ 0.49904233]], dtype=float32), array([ 0.00105358], dtype=float32)]\n"
     ]
    },
    {
     "data": {
      "image/png": "[encoded data removed]",
      "text/plain": [
       "<matplotlib.figure.Figure at 0x119688e48>"
      ]
     },
     "metadata": {},
     "output_type": "display_data"
    }
   ],
   "source": [
    "print(model.get_weights())\n",
    "plot_train(history)"
   ]
  },
  {
   "cell_type": "code",
   "execution_count": 14,
   "metadata": {},
   "outputs": [
    {
     "name": "stdout",
     "output_type": "stream",
     "text": [
      "78.0\n"
     ]
    }
   ],
   "source": [
    "input1 = 33;\n",
    "input2 = 45;\n",
    "\n",
    "inputs = np.array([[input1, input2]]).astype('float32');\n",
    "inputs /= 100;\n",
    "\n",
    "preds = model.predict(inputs);\n",
    "\n",
    "result = preds[0][0];\n",
    "print(np.rint(result*200))"
   ]
  },
  {
   "cell_type": "code",
   "execution_count": 15,
   "metadata": {},
   "outputs": [
    {
     "name": "stdout",
     "output_type": "stream",
     "text": [
      "[[  0.  10.]\n",
      " [  0.  11.]\n",
      " [  0.  12.]\n",
      " [  0.  13.]\n",
      " [  0.  14.]]\n",
      "[ 10.  11.  12.  13.  14.]\n",
      "[ 10.  11.  12.  13.  14.]\n"
     ]
    }
   ],
   "source": [
    "preds = model.predict(x_test[10:15])\n",
    "\n",
    "print(x_test[10:15] * 100)\n",
    "print(y_test[10:15] * 200)\n",
    "print(np.rint(preds.flatten() * 200))"
   ]
  },
  {
   "cell_type": "code",
   "execution_count": null,
   "metadata": {
    "collapsed": true
   },
   "outputs": [],
   "source": []
  },
  {
   "cell_type": "code",
   "execution_count": null,
   "metadata": {
    "collapsed": true
   },
   "outputs": [],
   "source": []
  }
 ],
 "metadata": {
  "kernelspec": {
   "display_name": "Python 3",
   "language": "python",
   "name": "python3"
  },
  "language_info": {
   "codemirror_mode": {
    "name": "ipython",
    "version": 3
   },
   "file_extension": ".py",
   "mimetype": "text/x-python",
   "name": "python",
   "nbconvert_exporter": "python",
   "pygments_lexer": "ipython3",
   "version": "3.5.3"
  }
 },
 "nbformat": 4,
 "nbformat_minor": 2
}
